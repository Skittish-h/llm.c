{
 "cells": [
  {
   "cell_type": "code",
   "execution_count": 40,
   "metadata": {},
   "outputs": [],
   "source": [
    "import pandas as pd\n",
    "import json"
   ]
  },
  {
   "cell_type": "code",
   "execution_count": 32,
   "metadata": {},
   "outputs": [],
   "source": []
  },
  {
   "cell_type": "code",
   "execution_count": 41,
   "metadata": {},
   "outputs": [],
   "source": [
    "def timing_summary(timings: dict):\n",
    "    # Create a copy of the DataFrame without 'model_initialization' and 'copy_to_device'\n",
    "    timings_model_init = timings.pop('model_initialization', [])\n",
    "    copy_to_device = timings.pop('copy_to_device', [])\n",
    "\n",
    "    # Convert remaining timings into a DataFrame\n",
    "    df = pd.DataFrame(timings)\n",
    "\n",
    "    # Calculate mean and standard deviation for each metric\n",
    "    summary = df.apply(['mean', 'std']).transpose()\n",
    "\n",
    "    # Add 'model_initialization' and 'copy_to_device' metrics\n",
    "    if timings_model_init:\n",
    "        summary.loc['model_initialization'] = {\n",
    "            'mean': pd.Series(timings_model_init).mean(),\n",
    "            'std': pd.Series(timings_model_init).std(),\n",
    "        }\n",
    "    if copy_to_device:\n",
    "        summary.loc['copy_to_device'] = {\n",
    "            'mean': pd.Series(copy_to_device).mean(),\n",
    "            'std': pd.Series(copy_to_device).std(),\n",
    "        }\n",
    "\n",
    "    # Return the summary DataFrame\n",
    "    return summary"
   ]
  },
  {
   "cell_type": "code",
   "execution_count": 48,
   "metadata": {},
   "outputs": [],
   "source": [
    "with open('../timings32.json', 'r') as f:\n",
    "    timings32 = json.load(f)\n",
    "\n",
    "with open('../timings16.json', 'r') as f:\n",
    "    timings16 = json.load(f)"
   ]
  },
  {
   "cell_type": "code",
   "execution_count": 49,
   "metadata": {},
   "outputs": [
    {
     "data": {
      "text/html": [
       "<div>\n",
       "<style scoped>\n",
       "    .dataframe tbody tr th:only-of-type {\n",
       "        vertical-align: middle;\n",
       "    }\n",
       "\n",
       "    .dataframe tbody tr th {\n",
       "        vertical-align: top;\n",
       "    }\n",
       "\n",
       "    .dataframe thead th {\n",
       "        text-align: right;\n",
       "    }\n",
       "</style>\n",
       "<table border=\"1\" class=\"dataframe\">\n",
       "  <thead>\n",
       "    <tr style=\"text-align: right;\">\n",
       "      <th></th>\n",
       "      <th>mean</th>\n",
       "      <th>std</th>\n",
       "    </tr>\n",
       "  </thead>\n",
       "  <tbody>\n",
       "    <tr>\n",
       "      <th>copy_next_token</th>\n",
       "      <td>0.007940</td>\n",
       "      <td>0.001413</td>\n",
       "    </tr>\n",
       "    <tr>\n",
       "      <th>copy_to_host</th>\n",
       "      <td>0.073666</td>\n",
       "      <td>0.006726</td>\n",
       "    </tr>\n",
       "    <tr>\n",
       "      <th>forward_pass</th>\n",
       "      <td>5.929551</td>\n",
       "      <td>0.225355</td>\n",
       "    </tr>\n",
       "    <tr>\n",
       "      <th>sampling</th>\n",
       "      <td>0.061428</td>\n",
       "      <td>0.005467</td>\n",
       "    </tr>\n",
       "    <tr>\n",
       "      <th>model_initialization</th>\n",
       "      <td>382.111792</td>\n",
       "      <td>3.168156</td>\n",
       "    </tr>\n",
       "    <tr>\n",
       "      <th>copy_to_device</th>\n",
       "      <td>0.015838</td>\n",
       "      <td>0.003220</td>\n",
       "    </tr>\n",
       "  </tbody>\n",
       "</table>\n",
       "</div>"
      ],
      "text/plain": [
       "                            mean       std\n",
       "copy_next_token         0.007940  0.001413\n",
       "copy_to_host            0.073666  0.006726\n",
       "forward_pass            5.929551  0.225355\n",
       "sampling                0.061428  0.005467\n",
       "model_initialization  382.111792  3.168156\n",
       "copy_to_device          0.015838  0.003220"
      ]
     },
     "execution_count": 49,
     "metadata": {},
     "output_type": "execute_result"
    }
   ],
   "source": [
    "timing_summary(timings32)"
   ]
  },
  {
   "cell_type": "code",
   "execution_count": 50,
   "metadata": {},
   "outputs": [
    {
     "data": {
      "text/html": [
       "<div>\n",
       "<style scoped>\n",
       "    .dataframe tbody tr th:only-of-type {\n",
       "        vertical-align: middle;\n",
       "    }\n",
       "\n",
       "    .dataframe tbody tr th {\n",
       "        vertical-align: top;\n",
       "    }\n",
       "\n",
       "    .dataframe thead th {\n",
       "        text-align: right;\n",
       "    }\n",
       "</style>\n",
       "<table border=\"1\" class=\"dataframe\">\n",
       "  <thead>\n",
       "    <tr style=\"text-align: right;\">\n",
       "      <th></th>\n",
       "      <th>mean</th>\n",
       "      <th>std</th>\n",
       "    </tr>\n",
       "  </thead>\n",
       "  <tbody>\n",
       "    <tr>\n",
       "      <th>copy_next_token</th>\n",
       "      <td>0.008179</td>\n",
       "      <td>0.001015</td>\n",
       "    </tr>\n",
       "    <tr>\n",
       "      <th>copy_to_host</th>\n",
       "      <td>0.114337</td>\n",
       "      <td>0.008117</td>\n",
       "    </tr>\n",
       "    <tr>\n",
       "      <th>forward_pass</th>\n",
       "      <td>4.463873</td>\n",
       "      <td>0.254841</td>\n",
       "    </tr>\n",
       "    <tr>\n",
       "      <th>sampling</th>\n",
       "      <td>0.060863</td>\n",
       "      <td>0.003882</td>\n",
       "    </tr>\n",
       "    <tr>\n",
       "      <th>model_initialization</th>\n",
       "      <td>999.437500</td>\n",
       "      <td>1.222638</td>\n",
       "    </tr>\n",
       "    <tr>\n",
       "      <th>copy_to_device</th>\n",
       "      <td>0.016585</td>\n",
       "      <td>0.003193</td>\n",
       "    </tr>\n",
       "  </tbody>\n",
       "</table>\n",
       "</div>"
      ],
      "text/plain": [
       "                            mean       std\n",
       "copy_next_token         0.008179  0.001015\n",
       "copy_to_host            0.114337  0.008117\n",
       "forward_pass            4.463873  0.254841\n",
       "sampling                0.060863  0.003882\n",
       "model_initialization  999.437500  1.222638\n",
       "copy_to_device          0.016585  0.003193"
      ]
     },
     "execution_count": 50,
     "metadata": {},
     "output_type": "execute_result"
    }
   ],
   "source": [
    "timing_summary(timings16)"
   ]
  },
  {
   "cell_type": "code",
   "execution_count": 34,
   "metadata": {},
   "outputs": [],
   "source": [
    "\n",
    "\n"
   ]
  },
  {
   "cell_type": "code",
   "execution_count": 35,
   "metadata": {},
   "outputs": [
    {
     "data": {
      "text/plain": [
       "[377.3607482910156,\n",
       " 382.9368896484375,\n",
       " 383.2922668457031,\n",
       " 385.9066467285156,\n",
       " 381.0624084472656]"
      ]
     },
     "execution_count": 35,
     "metadata": {},
     "output_type": "execute_result"
    }
   ],
   "source": [
    "timings_model_init"
   ]
  },
  {
   "cell_type": "code",
   "execution_count": 37,
   "metadata": {},
   "outputs": [
    {
     "data": {
      "text/plain": [
       "(copy_next_token    0.007940\n",
       " copy_to_host       0.073666\n",
       " forward_pass       5.929551\n",
       " sampling           0.061428\n",
       " dtype: float64,\n",
       " copy_next_token    0.001413\n",
       " copy_to_host       0.006726\n",
       " forward_pass       0.225355\n",
       " sampling           0.005467\n",
       " dtype: float64)"
      ]
     },
     "execution_count": 37,
     "metadata": {},
     "output_type": "execute_result"
    }
   ],
   "source": [
    "\n",
    "df.mean(), df.std()"
   ]
  },
  {
   "cell_type": "code",
   "execution_count": null,
   "metadata": {},
   "outputs": [],
   "source": [
    "(copy_next_token    0.007936\n",
    " copy_to_host       0.114086\n",
    " forward_pass       4.456051\n",
    " sampling           0.059197\n",
    " dtype: float64,\n",
    " copy_next_token    0.000562\n",
    " copy_to_host       0.004198\n",
    " forward_pass       0.260171\n",
    " sampling           0.001327\n",
    " dtype: float64)"
   ]
  }
 ],
 "metadata": {
  "kernelspec": {
   "display_name": ".venv",
   "language": "python",
   "name": "python3"
  },
  "language_info": {
   "codemirror_mode": {
    "name": "ipython",
    "version": 3
   },
   "file_extension": ".py",
   "mimetype": "text/x-python",
   "name": "python",
   "nbconvert_exporter": "python",
   "pygments_lexer": "ipython3",
   "version": "3.9.18"
  }
 },
 "nbformat": 4,
 "nbformat_minor": 2
}
