{
 "cells": [
  {
   "cell_type": "code",
   "execution_count": 1,
   "metadata": {},
   "outputs": [],
   "source": [
    "import pandas as pd\n",
    "import json"
   ]
  },
  {
   "cell_type": "code",
   "execution_count": 2,
   "metadata": {},
   "outputs": [],
   "source": [
    "def timing_summary(timings: dict):\n",
    "    summary = {}\n",
    "\n",
    "    for key in timings.keys():\n",
    "        values = pd.Series(timings[key])\n",
    "        summary[key] = {\n",
    "            'mean': values.mean(),\n",
    "            'std': values.std(),\n",
    "            'sum': values.sum()\n",
    "        }\n",
    "\n",
    "    return pd.DataFrame(summary).transpose()"
   ]
  },
  {
   "cell_type": "code",
   "execution_count": 10,
   "metadata": {},
   "outputs": [],
   "source": [
    "with open('../timings32_64.json', 'r') as f:\n",
    "    timingsfp32_64 = json.load(f)\n",
    "\n",
    "with open('../timings32_128.json', 'r') as f:\n",
    "    timingsfp32_128 = json.load(f)\n",
    "\n",
    "with open('../timings32_256.json', 'r') as f:\n",
    "    timingsfp32_256 = json.load(f)\n",
    "\n",
    "with open('../timings_gpu32_64.json', 'r') as f:\n",
    "    timings_gpufp32_64 = json.load(f)\n",
    "\n",
    "with open('../timings_gpu32_128.json', 'r') as f:\n",
    "    timings_gpufp32_128 = json.load(f)\n",
    "\n",
    "with open('../timings_gpu32_256.json', 'r') as f:\n",
    "    timings_gpufp32_256 = json.load(f)"
   ]
  },
  {
   "cell_type": "code",
   "execution_count": 11,
   "metadata": {},
   "outputs": [
    {
     "data": {
      "text/html": [
       "<div>\n",
       "<style scoped>\n",
       "    .dataframe tbody tr th:only-of-type {\n",
       "        vertical-align: middle;\n",
       "    }\n",
       "\n",
       "    .dataframe tbody tr th {\n",
       "        vertical-align: top;\n",
       "    }\n",
       "\n",
       "    .dataframe thead th {\n",
       "        text-align: right;\n",
       "    }\n",
       "</style>\n",
       "<table border=\"1\" class=\"dataframe\">\n",
       "  <thead>\n",
       "    <tr style=\"text-align: right;\">\n",
       "      <th></th>\n",
       "      <th>mean</th>\n",
       "      <th>std</th>\n",
       "      <th>sum</th>\n",
       "    </tr>\n",
       "  </thead>\n",
       "  <tbody>\n",
       "    <tr>\n",
       "      <th>copy_next_token</th>\n",
       "      <td>0.010222</td>\n",
       "      <td>0.002508</td>\n",
       "      <td>324.404768</td>\n",
       "    </tr>\n",
       "    <tr>\n",
       "      <th>copy_to_device</th>\n",
       "      <td>0.022104</td>\n",
       "      <td>0.006858</td>\n",
       "      <td>2.829312</td>\n",
       "    </tr>\n",
       "    <tr>\n",
       "      <th>copy_to_host</th>\n",
       "      <td>0.088151</td>\n",
       "      <td>0.010164</td>\n",
       "      <td>2797.567903</td>\n",
       "    </tr>\n",
       "    <tr>\n",
       "      <th>forward_pass</th>\n",
       "      <td>7.351146</td>\n",
       "      <td>0.098660</td>\n",
       "      <td>233295.974463</td>\n",
       "    </tr>\n",
       "    <tr>\n",
       "      <th>model_initialization</th>\n",
       "      <td>394.999603</td>\n",
       "      <td>5.495615</td>\n",
       "      <td>1974.998016</td>\n",
       "    </tr>\n",
       "    <tr>\n",
       "      <th>sampling</th>\n",
       "      <td>0.054251</td>\n",
       "      <td>0.007022</td>\n",
       "      <td>1721.700318</td>\n",
       "    </tr>\n",
       "  </tbody>\n",
       "</table>\n",
       "</div>"
      ],
      "text/plain": [
       "                            mean       std            sum\n",
       "copy_next_token         0.010222  0.002508     324.404768\n",
       "copy_to_device          0.022104  0.006858       2.829312\n",
       "copy_to_host            0.088151  0.010164    2797.567903\n",
       "forward_pass            7.351146  0.098660  233295.974463\n",
       "model_initialization  394.999603  5.495615    1974.998016\n",
       "sampling                0.054251  0.007022    1721.700318"
      ]
     },
     "execution_count": 11,
     "metadata": {},
     "output_type": "execute_result"
    }
   ],
   "source": [
    "timing_summary(timingsfp32_256)"
   ]
  },
  {
   "cell_type": "code",
   "execution_count": 12,
   "metadata": {},
   "outputs": [
    {
     "data": {
      "text/html": [
       "<div>\n",
       "<style scoped>\n",
       "    .dataframe tbody tr th:only-of-type {\n",
       "        vertical-align: middle;\n",
       "    }\n",
       "\n",
       "    .dataframe tbody tr th {\n",
       "        vertical-align: top;\n",
       "    }\n",
       "\n",
       "    .dataframe thead th {\n",
       "        text-align: right;\n",
       "    }\n",
       "</style>\n",
       "<table border=\"1\" class=\"dataframe\">\n",
       "  <thead>\n",
       "    <tr style=\"text-align: right;\">\n",
       "      <th></th>\n",
       "      <th>mean</th>\n",
       "      <th>std</th>\n",
       "      <th>sum</th>\n",
       "    </tr>\n",
       "  </thead>\n",
       "  <tbody>\n",
       "    <tr>\n",
       "      <th>copy_next_token</th>\n",
       "      <td>NaN</td>\n",
       "      <td>NaN</td>\n",
       "      <td>0.000000</td>\n",
       "    </tr>\n",
       "    <tr>\n",
       "      <th>copy_to_device</th>\n",
       "      <td>0.022471</td>\n",
       "      <td>0.007143</td>\n",
       "      <td>2.876288</td>\n",
       "    </tr>\n",
       "    <tr>\n",
       "      <th>copy_to_host</th>\n",
       "      <td>0.021364</td>\n",
       "      <td>0.007605</td>\n",
       "      <td>2.734624</td>\n",
       "    </tr>\n",
       "    <tr>\n",
       "      <th>forward_pass</th>\n",
       "      <td>7.381411</td>\n",
       "      <td>0.096335</td>\n",
       "      <td>234256.458746</td>\n",
       "    </tr>\n",
       "    <tr>\n",
       "      <th>model_initialization</th>\n",
       "      <td>NaN</td>\n",
       "      <td>NaN</td>\n",
       "      <td>0.000000</td>\n",
       "    </tr>\n",
       "    <tr>\n",
       "      <th>sampling</th>\n",
       "      <td>0.010699</td>\n",
       "      <td>0.002658</td>\n",
       "      <td>339.543035</td>\n",
       "    </tr>\n",
       "  </tbody>\n",
       "</table>\n",
       "</div>"
      ],
      "text/plain": [
       "                          mean       std            sum\n",
       "copy_next_token            NaN       NaN       0.000000\n",
       "copy_to_device        0.022471  0.007143       2.876288\n",
       "copy_to_host          0.021364  0.007605       2.734624\n",
       "forward_pass          7.381411  0.096335  234256.458746\n",
       "model_initialization       NaN       NaN       0.000000\n",
       "sampling              0.010699  0.002658     339.543035"
      ]
     },
     "execution_count": 12,
     "metadata": {},
     "output_type": "execute_result"
    }
   ],
   "source": [
    "timing_summary(timings_gpufp32_256)"
   ]
  },
  {
   "cell_type": "code",
   "execution_count": 37,
   "metadata": {},
   "outputs": [
    {
     "data": {
      "text/plain": [
       "(copy_next_token    0.007940\n",
       " copy_to_host       0.073666\n",
       " forward_pass       5.929551\n",
       " sampling           0.061428\n",
       " dtype: float64,\n",
       " copy_next_token    0.001413\n",
       " copy_to_host       0.006726\n",
       " forward_pass       0.225355\n",
       " sampling           0.005467\n",
       " dtype: float64)"
      ]
     },
     "execution_count": 37,
     "metadata": {},
     "output_type": "execute_result"
    }
   ],
   "source": []
  },
  {
   "cell_type": "code",
   "execution_count": null,
   "metadata": {},
   "outputs": [],
   "source": [
    "(copy_next_token    0.007936\n",
    " copy_to_host       0.114086\n",
    " forward_pass       4.456051\n",
    " sampling           0.059197\n",
    " dtype: float64,\n",
    " copy_next_token    0.000562\n",
    " copy_to_host       0.004198\n",
    " forward_pass       0.260171\n",
    " sampling           0.001327\n",
    " dtype: float64)"
   ]
  }
 ],
 "metadata": {
  "kernelspec": {
   "display_name": ".venv",
   "language": "python",
   "name": "python3"
  },
  "language_info": {
   "codemirror_mode": {
    "name": "ipython",
    "version": 3
   },
   "file_extension": ".py",
   "mimetype": "text/x-python",
   "name": "python",
   "nbconvert_exporter": "python",
   "pygments_lexer": "ipython3",
   "version": "3.9.18"
  }
 },
 "nbformat": 4,
 "nbformat_minor": 2
}
