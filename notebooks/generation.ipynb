{
 "cells": [
  {
   "cell_type": "code",
   "execution_count": 3,
   "metadata": {},
   "outputs": [
    {
     "name": "stderr",
     "output_type": "stream",
     "text": [
      "/Users/antonbaumann/Projects/llm.c/.venv/lib/python3.10/site-packages/tqdm/auto.py:21: TqdmWarning: IProgress not found. Please update jupyter and ipywidgets. See https://ipywidgets.readthedocs.io/en/stable/user_install.html\n",
      "  from .autonotebook import tqdm as notebook_tqdm\n"
     ]
    }
   ],
   "source": [
    "import tiktoken\n",
    "import torch\n",
    "from transformers import AutoTokenizer, AutoModelForCausalLM"
   ]
  },
  {
   "cell_type": "code",
   "execution_count": 4,
   "metadata": {},
   "outputs": [
    {
     "name": "stdout",
     "output_type": "stream",
     "text": [
      "15496 428 318 220 "
     ]
    }
   ],
   "source": [
    "enc = tiktoken.get_encoding('gpt2')\n",
    "encode = lambda s: enc.encode_ordinary(s)\n",
    "eot = enc._special_tokens['<|endoftext|>']\n",
    "\n",
    "tokens = encode(\"I am Elon Musk and my favorite thing in the world is to\")\n",
    "\n",
    "for token in tokens:\n",
    "    print(token, end=' ')"
   ]
  },
  {
   "cell_type": "code",
   "execution_count": 44,
   "metadata": {},
   "outputs": [],
   "source": [
    "def generate_text(tokenizer, model, prompt, max_length=1024):\n",
    "    inputs = tokenizer(prompt, return_tensors=\"pt\").to('cuda' if torch.cuda.is_available() else 'cpu')\n",
    "    attention_mask = inputs[\"attention_mask\"]\n",
    "\n",
    "    outputs = model.generate(\n",
    "        inputs[\"input_ids\"], \n",
    "        attention_mask=attention_mask, \n",
    "        max_length=max_length, \n",
    "        do_sample=True, \n",
    "        # top_p=0.95, \n",
    "        top_k=50,\n",
    "        pad_token_id=tokenizer.eos_token_id,\n",
    "    )\n",
    "    return inputs[\"input_ids\"], tokenizer.decode(outputs[0], skip_special_tokens=True)\n"
   ]
  },
  {
   "cell_type": "code",
   "execution_count": 45,
   "metadata": {},
   "outputs": [],
   "source": [
    "tokenizer = AutoTokenizer.from_pretrained(\"../gpt2_124M\")\n",
    "model = AutoModelForCausalLM.from_pretrained(\"../gpt2_124M\", torch_dtype=torch.bfloat16 if torch.cuda.is_available() else torch.float32)\n",
    "model = model.to('cuda' if torch.cuda.is_available() else 'cpu')"
   ]
  },
  {
   "cell_type": "code",
   "execution_count": 46,
   "metadata": {},
   "outputs": [
    {
     "name": "stdout",
     "output_type": "stream",
     "text": [
      "15496 428 318 \n",
      "Hello this is called the \"Dumbest\" movie.\n",
      "\n",
      "This book isn't bad, but it suffers from a weakness that might annoy fans of the medium. With no actual science presented, the characters can be dumb. It's not even as bad as it sounds like, but it might just be worse. No one is sure what \"Dumbest\" is about, but its portrayal does not make it much less dumb. This book has been a success, and we will be doing our best to give it a second life for its sequels. It was also inspired so many times, I hope it will end up getting a second edition soon.\n",
      "\n",
      "[Read more on \"Nathan Rose: A Biography\" here], written by Mike Roddam.\n",
      "\n",
      "Share this: Facebook\n",
      "\n",
      "Reddit\n",
      "\n",
      "Twitter\n",
      "\n",
      "Tumblr\n",
      "\n",
      "Google\n",
      "\n",
      "More\n",
      "\n",
      "Email\n",
      "\n",
      "Print\n",
      "\n",
      "\n",
      "LinkedIn\n",
      "\n",
      "Pinterest\n",
      "\n",
      "\n",
      "Pocket\n"
     ]
    }
   ],
   "source": [
    "input_ids, generated_text = generate_text(tokenizer, model, \"Hello this is\")\n",
    "for input_id in input_ids[0]:\n",
    "    print(input_id.item(), end=' ')\n",
    "print()\n",
    "\n",
    "print(generated_text)"
   ]
  },
  {
   "cell_type": "code",
   "execution_count": null,
   "metadata": {},
   "outputs": [],
   "source": []
  }
 ],
 "metadata": {
  "kernelspec": {
   "display_name": ".venv",
   "language": "python",
   "name": "python3"
  },
  "language_info": {
   "codemirror_mode": {
    "name": "ipython",
    "version": 3
   },
   "file_extension": ".py",
   "mimetype": "text/x-python",
   "name": "python",
   "nbconvert_exporter": "python",
   "pygments_lexer": "ipython3",
   "version": "3.10.15"
  }
 },
 "nbformat": 4,
 "nbformat_minor": 2
}
