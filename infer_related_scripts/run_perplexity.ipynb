{
  "cells": [
    {
      "cell_type": "markdown",
      "id": "83d79a1f08c9518f",
      "metadata": {
        "id": "83d79a1f08c9518f"
      },
      "source": [
        "# Perplecity measure notebook\n",
        "\n",
        "For building project on Google colab. Downloads the repository itself and builds the project based on the Makefile."
      ]
    },
    {
      "cell_type": "code",
      "execution_count": null,
      "id": "initial_id",
      "metadata": {
        "collapsed": true,
        "id": "initial_id"
      },
      "outputs": [],
      "source": [
        "!git clone https://github.com/Skittish-h/llm.c.git # --branch <branch_name> for specific branch\n",
        "!pip install tiktoken"
      ]
    },
    {
      "cell_type": "code",
      "execution_count": null,
      "id": "1c1d0b361e2f3159",
      "metadata": {
        "id": "1c1d0b361e2f3159",
        "jupyter": {
          "is_executing": true
        }
      },
      "outputs": [],
      "source": [
        "%cd llm.c\n",
        "! ./dev/download_starter_pack.sh"
      ]
    },
    {
      "cell_type": "code",
      "execution_count": null,
      "id": "dcc78928",
      "metadata": {
        "id": "dcc78928"
      },
      "outputs": [],
      "source": [
        "# Converting prompts in txt file to desired token length for use in dataloder\n",
        "!python infer_related_scripts/promptset.py -t 64 -i ../ptb/ptb.test.txt"
      ]
    },
    {
      "cell_type": "code",
      "execution_count": null,
      "id": "3f3ad72518b33516",
      "metadata": {
        "id": "3f3ad72518b33516"
      },
      "outputs": [],
      "source": [
        "!git pull\n",
        "!make perplexity_gpt2cu"
      ]
    },
    {
      "cell_type": "code",
      "execution_count": null,
      "id": "4521b338",
      "metadata": {
        "id": "4521b338"
      },
      "outputs": [],
      "source": [
        "# if using different token length than 32 it needs to be changed in the cuda file\n",
        "! ./perplexity_gpt2cu"
      ]
    }
  ],
  "metadata": {
    "accelerator": "GPU",
    "colab": {
      "gpuType": "T4",
      "provenance": []
    },
    "kernelspec": {
      "display_name": "Python 3",
      "name": "python3"
    },
    "language_info": {
      "codemirror_mode": {
        "name": "ipython",
        "version": 2
      },
      "file_extension": ".py",
      "mimetype": "text/x-python",
      "name": "python",
      "nbconvert_exporter": "python",
      "pygments_lexer": "ipython2",
      "version": "2.7.6"
    }
  },
  "nbformat": 4,
  "nbformat_minor": 5
}
