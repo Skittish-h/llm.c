{
 "cells": [
  {
   "cell_type": "markdown",
   "id": "83d79a1f08c9518f",
   "metadata": {},
   "source": [
    "# Execution notebook\n",
    "\n",
    "For building project on Google colab. Downloads the repository itself and builds the project based on the Makefile."
   ]
  },
  {
   "cell_type": "code",
   "execution_count": null,
   "id": "initial_id",
   "metadata": {
    "collapsed": true
   },
   "outputs": [],
   "source": [
    "!git clone https://github.com/Skittish-h/llm.c.git # --branch <branch_name> for specific branch\n",
    "!pip install tiktoken"
   ]
  },
  {
   "cell_type": "code",
   "execution_count": null,
   "id": "1c1d0b361e2f3159",
   "metadata": {
    "jupyter": {
     "is_executing": true
    }
   },
   "outputs": [],
   "source": [
    "%cd llm.c\n",
    "! ./dev/download_starter_pack.sh"
   ]
  },
  {
   "cell_type": "code",
   "execution_count": null,
   "id": "dcc78928",
   "metadata": {},
   "outputs": [],
   "source": [
    "# Converting prompts in txt file to desired token length for use in dataloder \n",
    "!python infer_related_scripts/promptset.py -t 64\n",
    "!mkdir saved_logits"
   ]
  },
  {
   "cell_type": "code",
   "execution_count": null,
   "id": "3f3ad72518b33516",
   "metadata": {},
   "outputs": [],
   "source": [
    "!git pull\n",
    "!make infer_gpt2_divergencecu"
   ]
  },
  {
   "cell_type": "code",
   "execution_count": null,
   "id": "4521b338",
   "metadata": {},
   "outputs": [],
   "source": [
    "# if using different token length than 64 it needs to be changed in the cuda file\n",
    "! ./infer_gpt2_divergencecu --name fp16 --t 64 --in \"infer_related_scripts/promptset/prompt_64.bin\""
   ]
  }
 ],
 "metadata": {
  "kernelspec": {
   "display_name": "Python 3",
   "language": "python",
   "name": "python3"
  },
  "language_info": {
   "codemirror_mode": {
    "name": "ipython",
    "version": 2
   },
   "file_extension": ".py",
   "mimetype": "text/x-python",
   "name": "python",
   "nbconvert_exporter": "python",
   "pygments_lexer": "ipython2",
   "version": "2.7.6"
  }
 },
 "nbformat": 4,
 "nbformat_minor": 5
}
